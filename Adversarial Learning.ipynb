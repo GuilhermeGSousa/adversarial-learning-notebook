{
 "cells": [
  {
   "cell_type": "code",
   "execution_count": null,
   "metadata": {},
   "outputs": [],
   "source": [
    "import numpy as np\n",
    "from keras.preprocessing import image\n",
    "from keras.applications import inception_v3 as net\n",
    "from keras import backend as K\n",
    "from PIL import Image\n",
    "import copy"
   ]
  },
  {
   "cell_type": "code",
   "execution_count": null,
   "metadata": {},
   "outputs": [],
   "source": [
    "img = image.load_img(\"data/fork.png\", target_size = (299, 299))"
   ]
  },
  {
   "cell_type": "code",
   "execution_count": null,
   "metadata": {},
   "outputs": [],
   "source": [
    "img.show()"
   ]
  },
  {
   "cell_type": "code",
   "execution_count": null,
   "metadata": {},
   "outputs": [],
   "source": [
    "input_image = image.img_to_array(img)\n",
    "input_image /= 255\n",
    "input_image -= 0.5\n",
    "input_image *= 2.\n",
    "input_image = np.expand_dims(input_image, axis=0)\n",
    "hacked_image = copy.deepcopy(input_image)"
   ]
  },
  {
   "cell_type": "code",
   "execution_count": null,
   "metadata": {},
   "outputs": [],
   "source": [
    "model = net.InceptionV3() # Changer ici!!\n",
    "pred = model.predict(input_image)\n",
    "pred_classes = net.decode_predictions(pred, top=1)\n",
    "imagenet_id, name, confidence = pred_classes[0][0]\n",
    "print(\"This is obviously a {} (with {:.4}% confidence)\".format(name, confidence * 100))"
   ]
  },
  {
   "cell_type": "code",
   "execution_count": null,
   "metadata": {},
   "outputs": [],
   "source": [
    "model_input_layer = model.layers[0].input\n",
    "model_output_layer = model.layers[-1].output\n",
    "\n",
    "object_to_fake = 963 # Pizza\n",
    "confidence_function = model_output_layer[0, object_to_fake]\n",
    "\n",
    "gradient_function = K.gradients(confidence_function, model_input_layer)[0]\n",
    "\n",
    "confidence_and_gradients = K.function([model_input_layer, K.learning_phase()], [confidence_function, gradient_function])\n",
    "\n",
    "confidence = 0\n",
    "\n",
    "lr = 0.1"
   ]
  },
  {
   "cell_type": "code",
   "execution_count": null,
   "metadata": {},
   "outputs": [],
   "source": [
    "while confidence < 0.98:\n",
    "    confidence, gradients = confidence_and_gradients([hacked_image, 0])\n",
    "    \n",
    "    hacked_image += lr * gradients\n",
    "    \n",
    "    # hacked_image = np.clip(hacked_image, input_image - 0.1, input_image + 0.1)\n",
    "    #hacked_image = np.clip(hacked_image, -1.0, 1.0)\n",
    "    print(\"Confidence at {:.4}%\".format(confidence * 100))"
   ]
  },
  {
   "cell_type": "code",
   "execution_count": null,
   "metadata": {},
   "outputs": [],
   "source": [
    "import matplotlib.pyplot as plt\n",
    "\n",
    "plt.figure()\n",
    "plt.imshow(hacked_image[0])"
   ]
  },
  {
   "cell_type": "code",
   "execution_count": null,
   "metadata": {},
   "outputs": [],
   "source": [
    "pred = model.predict(hacked_image)\n",
    "pred_classes = net.decode_predictions(pred, top=1)\n",
    "imagenet_id, name, confidence = pred_classes[0][0]\n",
    "print(\"This is obviously a {} (with {:.4}% confidence)\".format(name, confidence * 100))"
   ]
  },
  {
   "cell_type": "code",
   "execution_count": null,
   "metadata": {},
   "outputs": [],
   "source": []
  }
 ],
 "metadata": {
  "kernelspec": {
   "display_name": "Python 3",
   "language": "python",
   "name": "python3"
  },
  "language_info": {
   "codemirror_mode": {
    "name": "ipython",
    "version": 3
   },
   "file_extension": ".py",
   "mimetype": "text/x-python",
   "name": "python",
   "nbconvert_exporter": "python",
   "pygments_lexer": "ipython3",
   "version": "3.6.6"
  }
 },
 "nbformat": 4,
 "nbformat_minor": 2
}
